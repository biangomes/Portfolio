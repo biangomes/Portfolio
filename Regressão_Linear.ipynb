{
  "nbformat": 4,
  "nbformat_minor": 0,
  "metadata": {
    "colab": {
      "name": "Regressão Linear.ipynb",
      "provenance": [],
      "collapsed_sections": [],
      "authorship_tag": "ABX9TyNwA7wMUKLFBykHRiN4i5G6",
      "include_colab_link": true
    },
    "kernelspec": {
      "name": "python3",
      "display_name": "Python 3"
    }
  },
  "cells": [
    {
      "cell_type": "markdown",
      "metadata": {
        "id": "view-in-github",
        "colab_type": "text"
      },
      "source": [
        "<a href=\"https://colab.research.google.com/github/biangomes/projetos-e-estudos/blob/main/Regress%C3%A3o_Linear.ipynb\" target=\"_parent\"><img src=\"https://colab.research.google.com/assets/colab-badge.svg\" alt=\"Open In Colab\"/></a>"
      ]
    },
    {
      "cell_type": "markdown",
      "metadata": {
        "id": "um3IBiU0U_b1"
      },
      "source": [
        "**Hipótese:** o desempenho do aluno melhora com uma mesada a mais."
      ]
    },
    {
      "cell_type": "code",
      "metadata": {
        "id": "SmqhrlwkU7t0"
      },
      "source": [
        "# importando as bibliotecas de manipulacao\r\n",
        "import pandas as pd\r\n",
        "\r\n",
        "# importando as bibliotecas de processamento numerico\r\n",
        "import numpy as np\r\n",
        "\r\n",
        "# importando as bibliotecas de visualizacao de dados\r\n",
        "import matplotlib.pyplot as plt"
      ],
      "execution_count": 34,
      "outputs": []
    },
    {
      "cell_type": "code",
      "metadata": {
        "colab": {
          "base_uri": "https://localhost:8080/",
          "height": 111
        },
        "id": "z5eAiUvvViye",
        "outputId": "cef005e4-a791-454e-eeef-9ce855c5d0fa"
      },
      "source": [
        "# criando um dataframe\r\n",
        "alunos = pd.DataFrame({\r\n",
        "    'André': {'Mesada': 36.02, 'Nota_Testao': 48},\r\n",
        "    'Joao': {'Mesada': 11.83, 'Nota_Testao': 25},\r\n",
        "    'Bia': {'Mesada': 22.0, 'Nota_Testao': 43},\r\n",
        "    'Ana': {'Mesada': 24.0, 'Nota_Testao': 39},\r\n",
        "    'José': {'Mesada': 100.0, 'Nota_Testao': 60},\r\n",
        "    'Vinicius': {'Mesada': 10.0, 'Nota_Testao': 40},\r\n",
        "    'Tulio': {'Mesada': 20.0, 'Nota_Testao': 48},\r\n",
        "    'Josué': {'Mesada': 25.0, 'Nota_Testao': 47},\r\n",
        "    'Antonella': {'Mesada': 22.0, 'Nota_Testao': 43},\r\n",
        "})\r\n",
        "\r\n",
        "# visualizando o dataframe criado\r\n",
        "alunos"
      ],
      "execution_count": 35,
      "outputs": [
        {
          "output_type": "execute_result",
          "data": {
            "text/html": [
              "<div>\n",
              "<style scoped>\n",
              "    .dataframe tbody tr th:only-of-type {\n",
              "        vertical-align: middle;\n",
              "    }\n",
              "\n",
              "    .dataframe tbody tr th {\n",
              "        vertical-align: top;\n",
              "    }\n",
              "\n",
              "    .dataframe thead th {\n",
              "        text-align: right;\n",
              "    }\n",
              "</style>\n",
              "<table border=\"1\" class=\"dataframe\">\n",
              "  <thead>\n",
              "    <tr style=\"text-align: right;\">\n",
              "      <th></th>\n",
              "      <th>André</th>\n",
              "      <th>Joao</th>\n",
              "      <th>Bia</th>\n",
              "      <th>Ana</th>\n",
              "      <th>José</th>\n",
              "      <th>Vinicius</th>\n",
              "      <th>Tulio</th>\n",
              "      <th>Josué</th>\n",
              "      <th>Antonella</th>\n",
              "    </tr>\n",
              "  </thead>\n",
              "  <tbody>\n",
              "    <tr>\n",
              "      <th>Mesada</th>\n",
              "      <td>36.02</td>\n",
              "      <td>11.83</td>\n",
              "      <td>22.0</td>\n",
              "      <td>24.0</td>\n",
              "      <td>100.0</td>\n",
              "      <td>10.0</td>\n",
              "      <td>20.0</td>\n",
              "      <td>25.0</td>\n",
              "      <td>22.0</td>\n",
              "    </tr>\n",
              "    <tr>\n",
              "      <th>Nota_Testao</th>\n",
              "      <td>48.00</td>\n",
              "      <td>25.00</td>\n",
              "      <td>43.0</td>\n",
              "      <td>39.0</td>\n",
              "      <td>60.0</td>\n",
              "      <td>40.0</td>\n",
              "      <td>48.0</td>\n",
              "      <td>47.0</td>\n",
              "      <td>43.0</td>\n",
              "    </tr>\n",
              "  </tbody>\n",
              "</table>\n",
              "</div>"
            ],
            "text/plain": [
              "             André   Joao   Bia   Ana   José  Vinicius  Tulio  Josué  Antonella\n",
              "Mesada       36.02  11.83  22.0  24.0  100.0      10.0   20.0   25.0       22.0\n",
              "Nota_Testao  48.00  25.00  43.0  39.0   60.0      40.0   48.0   47.0       43.0"
            ]
          },
          "metadata": {
            "tags": []
          },
          "execution_count": 35
        }
      ]
    },
    {
      "cell_type": "markdown",
      "metadata": {
        "id": "4l2Tns0DWNR9"
      },
      "source": [
        "Como o formato não está como gostaríamos, uma vez que desejamos o nome dos alunos na esquerda, vamos utilizar o método `.T`, que faz a **transposição** das colunas x linhas."
      ]
    },
    {
      "cell_type": "code",
      "metadata": {
        "colab": {
          "base_uri": "https://localhost:8080/",
          "height": 328
        },
        "id": "LeImkDhoWXun",
        "outputId": "b6f520a7-ad43-4900-c378-22703f0769c7"
      },
      "source": [
        "# transposicao\r\n",
        "alunos = alunos.T\r\n",
        "\r\n",
        "# visualizando\r\n",
        "alunos"
      ],
      "execution_count": 36,
      "outputs": [
        {
          "output_type": "execute_result",
          "data": {
            "text/html": [
              "<div>\n",
              "<style scoped>\n",
              "    .dataframe tbody tr th:only-of-type {\n",
              "        vertical-align: middle;\n",
              "    }\n",
              "\n",
              "    .dataframe tbody tr th {\n",
              "        vertical-align: top;\n",
              "    }\n",
              "\n",
              "    .dataframe thead th {\n",
              "        text-align: right;\n",
              "    }\n",
              "</style>\n",
              "<table border=\"1\" class=\"dataframe\">\n",
              "  <thead>\n",
              "    <tr style=\"text-align: right;\">\n",
              "      <th></th>\n",
              "      <th>Mesada</th>\n",
              "      <th>Nota_Testao</th>\n",
              "    </tr>\n",
              "  </thead>\n",
              "  <tbody>\n",
              "    <tr>\n",
              "      <th>André</th>\n",
              "      <td>36.02</td>\n",
              "      <td>48.0</td>\n",
              "    </tr>\n",
              "    <tr>\n",
              "      <th>Joao</th>\n",
              "      <td>11.83</td>\n",
              "      <td>25.0</td>\n",
              "    </tr>\n",
              "    <tr>\n",
              "      <th>Bia</th>\n",
              "      <td>22.00</td>\n",
              "      <td>43.0</td>\n",
              "    </tr>\n",
              "    <tr>\n",
              "      <th>Ana</th>\n",
              "      <td>24.00</td>\n",
              "      <td>39.0</td>\n",
              "    </tr>\n",
              "    <tr>\n",
              "      <th>José</th>\n",
              "      <td>100.00</td>\n",
              "      <td>60.0</td>\n",
              "    </tr>\n",
              "    <tr>\n",
              "      <th>Vinicius</th>\n",
              "      <td>10.00</td>\n",
              "      <td>40.0</td>\n",
              "    </tr>\n",
              "    <tr>\n",
              "      <th>Tulio</th>\n",
              "      <td>20.00</td>\n",
              "      <td>48.0</td>\n",
              "    </tr>\n",
              "    <tr>\n",
              "      <th>Josué</th>\n",
              "      <td>25.00</td>\n",
              "      <td>47.0</td>\n",
              "    </tr>\n",
              "    <tr>\n",
              "      <th>Antonella</th>\n",
              "      <td>22.00</td>\n",
              "      <td>43.0</td>\n",
              "    </tr>\n",
              "  </tbody>\n",
              "</table>\n",
              "</div>"
            ],
            "text/plain": [
              "           Mesada  Nota_Testao\n",
              "André       36.02         48.0\n",
              "Joao        11.83         25.0\n",
              "Bia         22.00         43.0\n",
              "Ana         24.00         39.0\n",
              "José       100.00         60.0\n",
              "Vinicius    10.00         40.0\n",
              "Tulio       20.00         48.0\n",
              "Josué       25.00         47.0\n",
              "Antonella   22.00         43.0"
            ]
          },
          "metadata": {
            "tags": []
          },
          "execution_count": 36
        }
      ]
    },
    {
      "cell_type": "markdown",
      "metadata": {
        "id": "7JsUhHpbH0iV"
      },
      "source": [
        "Abaixo eu vou criar dois arrays, em que o primeiro aloca os dados da coluna `Mesada` e o segundo guarda os dados da coluna `Nota_Testao`. \r\n",
        "\r\n",
        "Na Regressão Linear Simples temos duas variáveis:\r\n",
        "\r\n",
        "- **Variável preditora:** esta tem o poder de influenciar ou não sobre a variável alvo. No nosso caso será a coluna `Nota_Testao`, reconhecida como `x`.\r\n",
        "\r\n",
        "- **Variável alvo:** é a variável que queremos prever. No nosso caso será a coluna `Mesada`, reconhecida como `y`."
      ]
    },
    {
      "cell_type": "code",
      "metadata": {
        "id": "CumeqAM-bDAm"
      },
      "source": [
        "# pego a Series 'Nota_Testao' e a uso em um array\r\n",
        "x = np.array(alunos['Nota_Testao'])\r\n",
        "\r\n",
        "# pego a Series 'Mesada' e a uso em um array\r\n",
        "y = np.array(alunos['Mesada'])"
      ],
      "execution_count": 41,
      "outputs": []
    },
    {
      "cell_type": "code",
      "metadata": {
        "colab": {
          "base_uri": "https://localhost:8080/"
        },
        "id": "qCSr0eIigoih",
        "outputId": "ad4c7e90-7e5e-4ec5-d5fb-1e2cc35b00e0"
      },
      "source": [
        "print('Variável independente: ', x)\r\n",
        "print('Variável dependente: ', y)"
      ],
      "execution_count": 42,
      "outputs": [
        {
          "output_type": "stream",
          "text": [
            "Variável independente:  [48. 25. 43. 39. 60. 40. 48. 47. 43.]\n",
            "Variável dependente:  [ 36.02  11.83  22.    24.   100.    10.    20.    25.    22.  ]\n"
          ],
          "name": "stdout"
        }
      ]
    },
    {
      "cell_type": "code",
      "metadata": {
        "colab": {
          "base_uri": "https://localhost:8080/",
          "height": 279
        },
        "id": "SknUPN64l1ZS",
        "outputId": "afe029dc-f20e-4fd5-fd3e-fd790f780faa"
      },
      "source": [
        "plt.plot(x, y, 'o')\r\n",
        "\r\n",
        "m, b = np.polyfit(x, y, 1)\r\n",
        "\r\n",
        "plt.plot(x, m*x + b)\r\n",
        "plt.xlabel('Mesada (R$)')\r\n",
        "plt.ylabel('Nota')\r\n",
        "plt.show();"
      ],
      "execution_count": 43,
      "outputs": [
        {
          "output_type": "display_data",
          "data": {
            "image/png": "[encoded data removed]",
            "text/plain": [
              "<Figure size 432x288 with 1 Axes>"
            ]
          },
          "metadata": {
            "tags": [],
            "needs_background": "light"
          }
        }
      ]
    },
    {
      "cell_type": "markdown",
      "metadata": {
        "id": "_84oYgUS8wDZ"
      },
      "source": [
        "Segundo a própria [documentação](https://numpy.org/doc/stable/reference/generated/numpy.polyfit.html) do numpy, o método `numpy.polyfit()` modela com o método dos mínimos quadrados polinomiais.\r\n",
        "\r\n",
        "Considere um polinômio $p$ dado por:\r\n",
        "\r\n",
        "$$ p(x) = p[0].x^{deg} + ... + p[deg] $$\r\n",
        "\r\n",
        "O polinômio acima retorna um vetor de coeficientes $p$ que minimiza o erro quadrático de ordem $deg, deg-1,...,0$.\r\n",
        "\r\n",
        "A sua sintaxe geral é:\r\n",
        "\r\n",
        "`numpy.polyfit(x, y, deg, rcond=None, full=False, w=None, cov=False)`,\r\n",
        "em que:\r\n",
        "\r\n",
        "- **x:** array, shape(M,), coordenada x de um espaço amostral de com M pontos `(x[i], y[i])`.\r\n",
        "\r\n",
        "- **y:** array, shape(M,) ou (M,K). Vários conjuntos de datas de um espaço amostral que compartilha as mesmas coordenadas da abscissa (x) pode ser modelado de uma só vez utilizando um array bidimensional que contenha um conjunto por coluna.\r\n",
        "\r\n",
        "- **deg:** int, grau do polinômio que quer ser modelado.\r\n",
        "\r\n",
        "Os outros parâmetros são adicionais, portanto será ocultado deste trabalho. Segue o link da documentação oficial do `numpy` novamente: https://numpy.org/doc/stable/reference/generated/numpy.polyfit.html.\r\n",
        "\r\n",
        "Os retornos da função são três:\r\n",
        "\r\n",
        "- **p:** ndarray, com um shape de (deg + 1) ou (deg + 1, K) (para conj. bidimensionais).\r\n",
        "\r\n",
        "- **residuals, rank, singular_values, rcond:** acontece somente se `full=True`. O `residuals` é a soma dos quadrados dos resíduos.\r\n",
        "\r\n",
        "- **V:** ndarray, shape(M, M) ou (M, M, K). Presente apenas se `full=False` e `cov=True`. \r\n",
        "\r\n",
        "A equação que minimiza o erro dos mínimos quadrados é:\r\n",
        "\r\n",
        "$$ E = \\Sigma_{j=0}^{k} |p(x_{j}) - y_{j}|^2 $$\r\n",
        "\r\n",
        "Considerando que já foi muito além do nível exigido, deixamos a continuação deste assunto para o curioso leitor."
      ]
    }
  ]
}