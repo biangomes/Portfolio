{
  "nbformat": 4,
  "nbformat_minor": 0,
  "metadata": {
    "colab": {
      "name": "Fronteira-Eficiente-com-Python.ipynb",
      "provenance": [],
      "collapsed_sections": []
    },
    "kernelspec": {
      "name": "python3",
      "display_name": "Python 3"
    },
    "language_info": {
      "name": "python"
    },
    "widgets": {
      "application/vnd.jupyter.widget-state+json": {
        "81d8d499ef0e4b1d8ad0a7996440e92f": {
          "model_module": "@jupyter-widgets/controls",
          "model_name": "VBoxModel",
          "state": {
            "_view_name": "VBoxView",
            "_dom_classes": [
              "widget-interact"
            ],
            "_model_name": "VBoxModel",
            "_view_module": "@jupyter-widgets/controls",
            "_model_module_version": "1.5.0",
            "_view_count": null,
            "_view_module_version": "1.5.0",
            "box_style": "",
            "layout": "IPY_MODEL_f404cdd3147a4f208c7fff46527dbfbd",
            "_model_module": "@jupyter-widgets/controls",
            "children": [
              "IPY_MODEL_3c7fb45c81fc443eafb44c8b34ddb3cb",
              "IPY_MODEL_8b4e8cc8abe04bec90e03abe398bb444",
              "IPY_MODEL_a59cb8b29d16412f824ade68a30f7008"
            ]
          }
        },
        "f404cdd3147a4f208c7fff46527dbfbd": {
          "model_module": "@jupyter-widgets/base",
          "model_name": "LayoutModel",
          "state": {
            "_view_name": "LayoutView",
            "grid_template_rows": null,
            "right": null,
            "justify_content": null,
            "_view_module": "@jupyter-widgets/base",
            "overflow": null,
            "_model_module_version": "1.2.0",
            "_view_count": null,
            "flex_flow": null,
            "width": null,
            "min_width": null,
            "border": null,
            "align_items": null,
            "bottom": null,
            "_model_module": "@jupyter-widgets/base",
            "top": null,
            "grid_column": null,
            "overflow_y": null,
            "overflow_x": null,
            "grid_auto_flow": null,
            "grid_area": null,
            "grid_template_columns": null,
            "flex": null,
            "_model_name": "LayoutModel",
            "justify_items": null,
            "grid_row": null,
            "max_height": null,
            "align_content": null,
            "visibility": null,
            "align_self": null,
            "height": null,
            "min_height": null,
            "padding": null,
            "grid_auto_rows": null,
            "grid_gap": null,
            "max_width": null,
            "order": null,
            "_view_module_version": "1.2.0",
            "grid_template_areas": null,
            "object_position": null,
            "object_fit": null,
            "grid_auto_columns": null,
            "margin": null,
            "display": null,
            "left": null
          }
        },
        "3c7fb45c81fc443eafb44c8b34ddb3cb": {
          "model_module": "@jupyter-widgets/controls",
          "model_name": "IntSliderModel",
          "state": {
            "_view_name": "IntSliderView",
            "style": "IPY_MODEL_66effae1d1ea40979726a87ea5cf64f8",
            "_dom_classes": [],
            "description": "w1",
            "step": 1,
            "_model_name": "IntSliderModel",
            "orientation": "horizontal",
            "max": 100,
            "_view_module": "@jupyter-widgets/controls",
            "_model_module_version": "1.5.0",
            "value": 70,
            "_view_count": null,
            "disabled": false,
            "_view_module_version": "1.5.0",
            "min": 0,
            "continuous_update": true,
            "readout_format": "d",
            "description_tooltip": null,
            "readout": true,
            "_model_module": "@jupyter-widgets/controls",
            "layout": "IPY_MODEL_55fdb454886f44da923fba79260916f3"
          }
        },
        "8b4e8cc8abe04bec90e03abe398bb444": {
          "model_module": "@jupyter-widgets/controls",
          "model_name": "CheckboxModel",
          "state": {
            "_view_name": "CheckboxView",
            "style": "IPY_MODEL_1801481b1180466da34ef031d08793b9",
            "_dom_classes": [],
            "description": "mostrar_curvas",
            "_model_name": "CheckboxModel",
            "_view_module": "@jupyter-widgets/controls",
            "_model_module_version": "1.5.0",
            "value": true,
            "_view_count": null,
            "disabled": false,
            "_view_module_version": "1.5.0",
            "indent": true,
            "description_tooltip": null,
            "_model_module": "@jupyter-widgets/controls",
            "layout": "IPY_MODEL_4089b8eba7414982a8e0fcb91dda8fd0"
          }
        },
        "a59cb8b29d16412f824ade68a30f7008": {
          "model_module": "@jupyter-widgets/output",
          "model_name": "OutputModel",
          "state": {
            "_view_name": "OutputView",
            "msg_id": "",
            "_dom_classes": [],
            "_model_name": "OutputModel",
            "outputs": [
              {
                "output_type": "display_data",
                "metadata": {
                  "tags": []
                },
                "text/html": "<html>\n<head><meta charset=\"utf-8\" /></head>\n<body>\n    <div>\n            <script src=\"https://cdnjs.cloudflare.com/ajax/libs/mathjax/2.7.5/MathJax.js?config=TeX-AMS-MML_SVG\"></script><script type=\"text/javascript\">if (window.MathJax) {MathJax.Hub.Config({SVG: {font: \"STIX-Web\"}});}</script>\n                <script type=\"text/javascript\">window.PlotlyConfig = {MathJaxConfig: 'local'};</script>\n        <script src=\"https://cdn.plot.ly/plotly-latest.min.js\"></script>    \n            <div id=\"48738cb2-8ee6-44d5-8aa9-9c4a0aec6a3a\" class=\"plotly-graph-div\" style=\"height:525px; width:100%;\"></div>\n            <script type=\"text/javascript\">\n                \n                    window.PLOTLYENV=window.PLOTLYENV || {};\n                    \n                if (document.getElementById(\"48738cb2-8ee6-44d5-8aa9-9c4a0aec6a3a\")) {\n                    Plotly.newPlot(\n                        '48738cb2-8ee6-44d5-8aa9-9c4a0aec6a3a',\n                        [{\"hovertemplate\": \"<b>retorno: </b> %{y:.1%}<br><b>volatilidade:</b> %{x:.1%}\", \"mode\": \"markers+text\", \"name\": \"CARTEIRA\", \"text\": [\"CARTEIRA\"], \"textfont\": {\"color\": \"white\", \"size\": 12}, \"textposition\": \"middle right\", \"type\": \"scatter\", \"x\": [0.2897394398375405], \"y\": [0.3611133391004068]}, {\"hovertemplate\": \"<b>retorno: </b> %{y:.1%}<br><b>volatilidade:</b> %{x:.1%}\", \"mode\": \"markers+text\", \"name\": \"A\\u00e7\\u00f5es\", \"text\": [\"ITSA4\", \"TAEE4\"], \"textfont\": {\"color\": \"white\", \"size\": 12}, \"textposition\": \"middle right\", \"type\": \"scatter\", \"x\": [0.3699416890783126, 0.23551914116325628], \"y\": [0.26549461815118314, 0.5842236879819288]}, {\"hovertemplate\": \"<b>retorno: </b> %{y:.1%}<br><b>volatilidade:</b> %{x:.1%}\", \"mode\": \"lines\", \"name\": \"Curva\", \"textfont\": {\"color\": \"white\", \"size\": 12}, \"textposition\": \"middle right\", \"type\": \"scatter\", \"visible\": true, \"x\": [0.23551914116325628, 0.23439275734041176, 0.2333190914233252, 0.23229887438636526, 0.2313328133865582, 0.23042158958550205, 0.2295658559857725, 0.22876623529588638, 0.22802331783838858, 0.22733765951597687, 0.22670977985075808, 0.2261401601117274, 0.22562924154536718, 0.22517742372386965, 0.22478506302488643, 0.22445247125591355, 0.2241799144354212, 0.2239676117416542, 0.22381573463867416, 0.2237244061877024, 0.22369370055017684, 0.22372364268719075, 0.22381420825814652, 0.22396532371958303, 0.22417686662324418, 0.22444866611057304, 0.22478050359899265, 0.22517211365357714, 0.22562318503607684, 0.22613336192174185, 0.22670224527303823, 0.22732939435815505, 0.22801432840121236, 0.2287565283502697, 0.229555438748641, 0.23041046969462126, 0.23132099887453442, 0.23228637365400967, 0.23330591321256666, 0.23437891070693762, 0.23550463544905675, 0.23668233508527212, 0.23791123776409243, 0.23919055428061844, 0.2405194801867367, 0.24189719785712296, 0.24332287850212447, 0.24479568411961974, 0.24631476937899463, 0.24787928343139803, 0.24948837164144738, 0.25114117723651, 0.25283684287061625, 0.2545745121009228, 0.2563533307754487, 0.2581724483315595, 0.2600310190053458, 0.261928202952654, 0.26386316728307596, 0.26583508700867103, 0.2678431459096173, 0.26988653731932394, 0.2719644648318427, 0.2740761429346377, 0.2762207975699636, 0.2783976666282374, 0.28060600037687894, 0.2828450618281544, 0.28511412704956823, 0.28741248542035147, 0.2897394398375405, 0.2920943068750933, 0.2944764168994048, 0.2968851141444862, 0.2993197567499656, 0.3017797167649512, 0.30426438012066287, 0.3067731465746142, 0.30930542962898316, 0.31186065642567257, 0.3144382676204258, 0.3170377172382162, 0.31965847251200036, 0.3223000137067838, 0.32496183393082034, 0.32764343893564046, 0.3303443469064743, 0.33306408824452804, 0.3358022053424516, 0.3385582523542304, 0.3413317949606351, 0.3441224101312625, 0.34692968588411416, 0.3497532210435709, 0.3525926249975419, 0.3554475174544944, 0.3583175282009944, 0.3612022968603322, 0.3641014726527343, 0.36701471415762305, 0.3699416890783126], \"y\": [0.5842236879819288, 0.5810363972836217, 0.5778491065853139, 0.5746618158870067, 0.571474525188699, 0.5682872344903916, 0.5650999437920838, 0.5619126530937764, 0.558725362395469, 0.5555380716971619, 0.5523507809988543, 0.5491634903005467, 0.5459761996022393, 0.5427889089039317, 0.5396016182056245, 0.5364143275073171, 0.5332270368090093, 0.5300397461107021, 0.5268524554123948, 0.5236651647140874, 0.5204778740157796, 0.517290583317472, 0.5141032926191647, 0.5109160019208575, 0.5077287112225497, 0.5045414205242423, 0.501354129825935, 0.49816683912762716, 0.4949795484293201, 0.4917922577310127, 0.4886049670327051, 0.48541767633439736, 0.48223038563608983, 0.47904309493778247, 0.4758558042394754, 0.4726685135411676, 0.4694812228428603, 0.4662939321445532, 0.4631066414462453, 0.4599193507479381, 0.4567320600496305, 0.45354476935132304, 0.4503574786530158, 0.44717018795470836, 0.4439828972564009, 0.44079560655809324, 0.43760831585978566, 0.43442102516147824, 0.4312337344631711, 0.42804644376486306, 0.424859153066556, 0.421671862368249, 0.4184845716699409, 0.41529728097163365, 0.4121099902733264, 0.4089226995750186, 0.4057354088767112, 0.40254811817840364, 0.399360827480096, 0.3961735367817889, 0.39298624608348137, 0.3897989553851738, 0.3866116646868667, 0.3834243739885587, 0.38023708329025174, 0.37704979259194416, 0.37386250189363657, 0.3706752111953294, 0.36748792049702195, 0.36430062979871447, 0.3611133391004068, 0.3579260484020991, 0.354738757703792, 0.3515514670054848, 0.34836417630717686, 0.3451768856088696, 0.34198959491056224, 0.33880230421225443, 0.3356150135139472, 0.33242772281564004, 0.3292404321173323, 0.3260531414190248, 0.3228658507207171, 0.3196785600224099, 0.3164912693241024, 0.31330397862579473, 0.3101166879274875, 0.30692939722918017, 0.30374210653087264, 0.3005548158325653, 0.2973675251342578, 0.2941802344359503, 0.29099294373764295, 0.28780565303933536, 0.28461836234102805, 0.28143107164272035, 0.2782437809444126, 0.27505649024610535, 0.2718691995477982, 0.2686819088494903, 0.26549461815118314]}, {\"hovertemplate\": \"<b>retorno: </b> %{y:.1%}<br><b>volatilidade:</b> %{x:.1%}\", \"mode\": \"markers\", \"name\": \"Carteira de M\\u00ednima Vari\\u00e2ncia\", \"textfont\": {\"color\": \"white\", \"size\": 12}, \"textposition\": \"middle right\", \"type\": \"scatter\", \"visible\": true, \"x\": [0.22369370055017684], \"y\": [0.5204778740157796]}, {\"hovertemplate\": \"<b>retorno: </b> %{y:.1%}<br><b>volatilidade:</b> %{x:.1%}\", \"line\": {\"color\": \"red\"}, \"mode\": \"lines\", \"name\": \"Fronteira Eficiente\", \"textfont\": {\"color\": \"white\", \"size\": 12}, \"textposition\": \"middle right\", \"type\": \"scatter\", \"visible\": true, \"x\": [0.23551914116325628, 0.23439275734041176, 0.2333190914233252, 0.23229887438636526, 0.2313328133865582, 0.23042158958550205, 0.2295658559857725, 0.22876623529588638, 0.22802331783838858, 0.22733765951597687, 0.22670977985075808, 0.2261401601117274, 0.22562924154536718, 0.22517742372386965, 0.22478506302488643, 0.22445247125591355, 0.2241799144354212, 0.2239676117416542, 0.22381573463867416, 0.2237244061877024, 0.22369370055017684], \"y\": [0.5842236879819288, 0.5810363972836217, 0.5778491065853139, 0.5746618158870067, 0.571474525188699, 0.5682872344903916, 0.5650999437920838, 0.5619126530937764, 0.558725362395469, 0.5555380716971619, 0.5523507809988543, 0.5491634903005467, 0.5459761996022393, 0.5427889089039317, 0.5396016182056245, 0.5364143275073171, 0.5332270368090093, 0.5300397461107021, 0.5268524554123948, 0.5236651647140874, 0.5204778740157796]}],\n                        {\"autosize\": false, \"template\": {\"data\": {\"bar\": [{\"error_x\": {\"color\": \"#f2f5fa\"}, \"error_y\": {\"color\": \"#f2f5fa\"}, \"marker\": {\"line\": {\"color\": \"rgb(17,17,17)\", \"width\": 0.5}}, \"type\": \"bar\"}], \"barpolar\": [{\"marker\": {\"line\": {\"color\": \"rgb(17,17,17)\", \"width\": 0.5}}, \"type\": \"barpolar\"}], \"carpet\": [{\"aaxis\": {\"endlinecolor\": \"#A2B1C6\", \"gridcolor\": \"#506784\", \"linecolor\": \"#506784\", \"minorgridcolor\": \"#506784\", \"startlinecolor\": \"#A2B1C6\"}, \"baxis\": {\"endlinecolor\": \"#A2B1C6\", \"gridcolor\": \"#506784\", \"linecolor\": \"#506784\", \"minorgridcolor\": \"#506784\", \"startlinecolor\": \"#A2B1C6\"}, \"type\": \"carpet\"}], \"choropleth\": [{\"colorbar\": {\"outlinewidth\": 0, \"ticks\": \"\"}, \"type\": \"choropleth\"}], \"contour\": [{\"colorbar\": {\"outlinewidth\": 0, \"ticks\": \"\"}, \"colorscale\": [[0.0, \"#0d0887\"], [0.1111111111111111, \"#46039f\"], [0.2222222222222222, \"#7201a8\"], [0.3333333333333333, \"#9c179e\"], [0.4444444444444444, \"#bd3786\"], [0.5555555555555556, \"#d8576b\"], [0.6666666666666666, \"#ed7953\"], [0.7777777777777778, \"#fb9f3a\"], [0.8888888888888888, \"#fdca26\"], [1.0, \"#f0f921\"]], \"type\": \"contour\"}], \"contourcarpet\": [{\"colorbar\": {\"outlinewidth\": 0, \"ticks\": \"\"}, \"type\": \"contourcarpet\"}], \"heatmap\": [{\"colorbar\": {\"outlinewidth\": 0, \"ticks\": \"\"}, \"colorscale\": [[0.0, \"#0d0887\"], [0.1111111111111111, \"#46039f\"], [0.2222222222222222, \"#7201a8\"], [0.3333333333333333, \"#9c179e\"], [0.4444444444444444, \"#bd3786\"], [0.5555555555555556, \"#d8576b\"], [0.6666666666666666, \"#ed7953\"], [0.7777777777777778, \"#fb9f3a\"], [0.8888888888888888, \"#fdca26\"], [1.0, \"#f0f921\"]], \"type\": \"heatmap\"}], \"heatmapgl\": [{\"colorbar\": {\"outlinewidth\": 0, \"ticks\": \"\"}, \"colorscale\": [[0.0, \"#0d0887\"], [0.1111111111111111, \"#46039f\"], [0.2222222222222222, \"#7201a8\"], [0.3333333333333333, \"#9c179e\"], [0.4444444444444444, \"#bd3786\"], [0.5555555555555556, \"#d8576b\"], [0.6666666666666666, \"#ed7953\"], [0.7777777777777778, \"#fb9f3a\"], [0.8888888888888888, \"#fdca26\"], [1.0, \"#f0f921\"]], \"type\": \"heatmapgl\"}], \"histogram\": [{\"marker\": {\"colorbar\": {\"outlinewidth\": 0, \"ticks\": \"\"}}, \"type\": \"histogram\"}], \"histogram2d\": [{\"colorbar\": {\"outlinewidth\": 0, \"ticks\": \"\"}, \"colorscale\": [[0.0, \"#0d0887\"], [0.1111111111111111, \"#46039f\"], [0.2222222222222222, \"#7201a8\"], [0.3333333333333333, \"#9c179e\"], [0.4444444444444444, \"#bd3786\"], [0.5555555555555556, \"#d8576b\"], [0.6666666666666666, \"#ed7953\"], [0.7777777777777778, \"#fb9f3a\"], [0.8888888888888888, \"#fdca26\"], [1.0, \"#f0f921\"]], \"type\": \"histogram2d\"}], \"histogram2dcontour\": [{\"colorbar\": {\"outlinewidth\": 0, \"ticks\": \"\"}, \"colorscale\": [[0.0, \"#0d0887\"], [0.1111111111111111, \"#46039f\"], [0.2222222222222222, \"#7201a8\"], [0.3333333333333333, \"#9c179e\"], [0.4444444444444444, \"#bd3786\"], [0.5555555555555556, \"#d8576b\"], [0.6666666666666666, \"#ed7953\"], [0.7777777777777778, \"#fb9f3a\"], [0.8888888888888888, \"#fdca26\"], [1.0, \"#f0f921\"]], \"type\": \"histogram2dcontour\"}], \"mesh3d\": [{\"colorbar\": {\"outlinewidth\": 0, \"ticks\": \"\"}, \"type\": \"mesh3d\"}], \"parcoords\": [{\"line\": {\"colorbar\": {\"outlinewidth\": 0, \"ticks\": \"\"}}, \"type\": \"parcoords\"}], \"pie\": [{\"automargin\": true, \"type\": \"pie\"}], \"scatter\": [{\"marker\": {\"line\": {\"color\": \"#283442\"}}, \"type\": \"scatter\"}], \"scatter3d\": [{\"line\": {\"colorbar\": {\"outlinewidth\": 0, \"ticks\": \"\"}}, \"marker\": {\"colorbar\": {\"outlinewidth\": 0, \"ticks\": \"\"}}, \"type\": \"scatter3d\"}], \"scattercarpet\": [{\"marker\": {\"colorbar\": {\"outlinewidth\": 0, \"ticks\": \"\"}}, \"type\": \"scattercarpet\"}], \"scattergeo\": [{\"marker\": {\"colorbar\": {\"outlinewidth\": 0, \"ticks\": \"\"}}, \"type\": \"scattergeo\"}], \"scattergl\": [{\"marker\": {\"line\": {\"color\": \"#283442\"}}, \"type\": \"scattergl\"}], \"scattermapbox\": [{\"marker\": {\"colorbar\": {\"outlinewidth\": 0, \"ticks\": \"\"}}, \"type\": \"scattermapbox\"}], \"scatterpolar\": [{\"marker\": {\"colorbar\": {\"outlinewidth\": 0, \"ticks\": \"\"}}, \"type\": \"scatterpolar\"}], \"scatterpolargl\": [{\"marker\": {\"colorbar\": {\"outlinewidth\": 0, \"ticks\": \"\"}}, \"type\": \"scatterpolargl\"}], \"scatterternary\": [{\"marker\": {\"colorbar\": {\"outlinewidth\": 0, \"ticks\": \"\"}}, \"type\": \"scatterternary\"}], \"surface\": [{\"colorbar\": {\"outlinewidth\": 0, \"ticks\": \"\"}, \"colorscale\": [[0.0, \"#0d0887\"], [0.1111111111111111, \"#46039f\"], [0.2222222222222222, \"#7201a8\"], [0.3333333333333333, \"#9c179e\"], [0.4444444444444444, \"#bd3786\"], [0.5555555555555556, \"#d8576b\"], [0.6666666666666666, \"#ed7953\"], [0.7777777777777778, \"#fb9f3a\"], [0.8888888888888888, \"#fdca26\"], [1.0, \"#f0f921\"]], \"type\": \"surface\"}], \"table\": [{\"cells\": {\"fill\": {\"color\": \"#506784\"}, \"line\": {\"color\": \"rgb(17,17,17)\"}}, \"header\": {\"fill\": {\"color\": \"#2a3f5f\"}, \"line\": {\"color\": \"rgb(17,17,17)\"}}, \"type\": \"table\"}]}, \"layout\": {\"annotationdefaults\": {\"arrowcolor\": \"#f2f5fa\", \"arrowhead\": 0, \"arrowwidth\": 1}, \"coloraxis\": {\"colorbar\": {\"outlinewidth\": 0, \"ticks\": \"\"}}, \"colorscale\": {\"diverging\": [[0, \"#8e0152\"], [0.1, \"#c51b7d\"], [0.2, \"#de77ae\"], [0.3, \"#f1b6da\"], [0.4, \"#fde0ef\"], [0.5, \"#f7f7f7\"], [0.6, \"#e6f5d0\"], [0.7, \"#b8e186\"], [0.8, \"#7fbc41\"], [0.9, \"#4d9221\"], [1, \"#276419\"]], \"sequential\": [[0.0, \"#0d0887\"], [0.1111111111111111, \"#46039f\"], [0.2222222222222222, \"#7201a8\"], [0.3333333333333333, \"#9c179e\"], [0.4444444444444444, \"#bd3786\"], [0.5555555555555556, \"#d8576b\"], [0.6666666666666666, \"#ed7953\"], [0.7777777777777778, \"#fb9f3a\"], [0.8888888888888888, \"#fdca26\"], [1.0, \"#f0f921\"]], \"sequentialminus\": [[0.0, \"#0d0887\"], [0.1111111111111111, \"#46039f\"], [0.2222222222222222, \"#7201a8\"], [0.3333333333333333, \"#9c179e\"], [0.4444444444444444, \"#bd3786\"], [0.5555555555555556, \"#d8576b\"], [0.6666666666666666, \"#ed7953\"], [0.7777777777777778, \"#fb9f3a\"], [0.8888888888888888, \"#fdca26\"], [1.0, \"#f0f921\"]]}, \"colorway\": [\"#636efa\", \"#EF553B\", \"#00cc96\", \"#ab63fa\", \"#FFA15A\", \"#19d3f3\", \"#FF6692\", \"#B6E880\", \"#FF97FF\", \"#FECB52\"], \"font\": {\"color\": \"#f2f5fa\"}, \"geo\": {\"bgcolor\": \"rgb(17,17,17)\", \"lakecolor\": \"rgb(17,17,17)\", \"landcolor\": \"rgb(17,17,17)\", \"showlakes\": true, \"showland\": true, \"subunitcolor\": \"#506784\"}, \"hoverlabel\": {\"align\": \"left\"}, \"hovermode\": \"closest\", \"mapbox\": {\"style\": \"dark\"}, \"paper_bgcolor\": \"rgb(17,17,17)\", \"plot_bgcolor\": \"rgb(17,17,17)\", \"polar\": {\"angularaxis\": {\"gridcolor\": \"#506784\", \"linecolor\": \"#506784\", \"ticks\": \"\"}, \"bgcolor\": \"rgb(17,17,17)\", \"radialaxis\": {\"gridcolor\": \"#506784\", \"linecolor\": \"#506784\", \"ticks\": \"\"}}, \"scene\": {\"xaxis\": {\"backgroundcolor\": \"rgb(17,17,17)\", \"gridcolor\": \"#506784\", \"gridwidth\": 2, \"linecolor\": \"#506784\", \"showbackground\": true, \"ticks\": \"\", \"zerolinecolor\": \"#C8D4E3\"}, \"yaxis\": {\"backgroundcolor\": \"rgb(17,17,17)\", \"gridcolor\": \"#506784\", \"gridwidth\": 2, \"linecolor\": \"#506784\", \"showbackground\": true, \"ticks\": \"\", \"zerolinecolor\": \"#C8D4E3\"}, \"zaxis\": {\"backgroundcolor\": \"rgb(17,17,17)\", \"gridcolor\": \"#506784\", \"gridwidth\": 2, \"linecolor\": \"#506784\", \"showbackground\": true, \"ticks\": \"\", \"zerolinecolor\": \"#C8D4E3\"}}, \"shapedefaults\": {\"line\": {\"color\": \"#f2f5fa\"}}, \"sliderdefaults\": {\"bgcolor\": \"#C8D4E3\", \"bordercolor\": \"rgb(17,17,17)\", \"borderwidth\": 1, \"tickwidth\": 0}, \"ternary\": {\"aaxis\": {\"gridcolor\": \"#506784\", \"linecolor\": \"#506784\", \"ticks\": \"\"}, \"baxis\": {\"gridcolor\": \"#506784\", \"linecolor\": \"#506784\", \"ticks\": \"\"}, \"bgcolor\": \"rgb(17,17,17)\", \"caxis\": {\"gridcolor\": \"#506784\", \"linecolor\": \"#506784\", \"ticks\": \"\"}}, \"title\": {\"x\": 0.05}, \"updatemenudefaults\": {\"bgcolor\": \"#506784\", \"borderwidth\": 0}, \"xaxis\": {\"automargin\": true, \"gridcolor\": \"#283442\", \"linecolor\": \"#506784\", \"ticks\": \"\", \"title\": {\"standoff\": 15}, \"zerolinecolor\": \"#283442\", \"zerolinewidth\": 2}, \"yaxis\": {\"automargin\": true, \"gridcolor\": \"#283442\", \"linecolor\": \"#506784\", \"ticks\": \"\", \"title\": {\"standoff\": 15}, \"zerolinecolor\": \"#283442\", \"zerolinewidth\": 2}}}, \"title\": {\"text\": \"<b>ITSA4:</b> 70% <b>TAEE4:</b> 30%\"}, \"xaxis\": {\"tickformat\": \".0%\", \"title\": {\"text\": \"Volatilidade\"}}, \"yaxis\": {\"range\": [0.21549461815118315, 0.6342236879819289], \"tickformat\": \".0%\", \"title\": {\"text\": \"Retorno Esperado\"}}},\n                        {\"displayModeBar\": true, \"responsive\": true}\n                    ).then(function(){\n                            \nvar gd = document.getElementById('48738cb2-8ee6-44d5-8aa9-9c4a0aec6a3a');\nvar x = new MutationObserver(function (mutations, observer) {{\n        var display = window.getComputedStyle(gd).display;\n        if (!display || display === 'none') {{\n            console.log([gd, 'removed!']);\n            Plotly.purge(gd);\n            observer.disconnect();\n        }}\n}});\n\n// Listen for the removal of the full notebook cells\nvar notebookContainer = gd.closest('#notebook-container');\nif (notebookContainer) {{\n    x.observe(notebookContainer, {childList: true});\n}}\n\n// Listen for the clearing of the current output cell\nvar outputEl = gd.closest('.output');\nif (outputEl) {{\n    x.observe(outputEl, {childList: true});\n}}\n\n                        })\n                };\n                \n            </script>\n        </div>\n</body>\n</html>"
              }
            ],
            "_view_module": "@jupyter-widgets/output",
            "_model_module_version": "1.0.0",
            "_view_count": null,
            "_view_module_version": "1.0.0",
            "layout": "IPY_MODEL_0531405bb86749c4bc00a623841018b5",
            "_model_module": "@jupyter-widgets/output"
          }
        },
        "66effae1d1ea40979726a87ea5cf64f8": {
          "model_module": "@jupyter-widgets/controls",
          "model_name": "SliderStyleModel",
          "state": {
            "_view_name": "StyleView",
            "handle_color": null,
            "_model_name": "SliderStyleModel",
            "description_width": "",
            "_view_module": "@jupyter-widgets/base",
            "_model_module_version": "1.5.0",
            "_view_count": null,
            "_view_module_version": "1.2.0",
            "_model_module": "@jupyter-widgets/controls"
          }
        },
        "55fdb454886f44da923fba79260916f3": {
          "model_module": "@jupyter-widgets/base",
          "model_name": "LayoutModel",
          "state": {
            "_view_name": "LayoutView",
            "grid_template_rows": null,
            "right": null,
            "justify_content": null,
            "_view_module": "@jupyter-widgets/base",
            "overflow": null,
            "_model_module_version": "1.2.0",
            "_view_count": null,
            "flex_flow": null,
            "width": null,
            "min_width": null,
            "border": null,
            "align_items": null,
            "bottom": null,
            "_model_module": "@jupyter-widgets/base",
            "top": null,
            "grid_column": null,
            "overflow_y": null,
            "overflow_x": null,
            "grid_auto_flow": null,
            "grid_area": null,
            "grid_template_columns": null,
            "flex": null,
            "_model_name": "LayoutModel",
            "justify_items": null,
            "grid_row": null,
            "max_height": null,
            "align_content": null,
            "visibility": null,
            "align_self": null,
            "height": null,
            "min_height": null,
            "padding": null,
            "grid_auto_rows": null,
            "grid_gap": null,
            "max_width": null,
            "order": null,
            "_view_module_version": "1.2.0",
            "grid_template_areas": null,
            "object_position": null,
            "object_fit": null,
            "grid_auto_columns": null,
            "margin": null,
            "display": null,
            "left": null
          }
        },
        "1801481b1180466da34ef031d08793b9": {
          "model_module": "@jupyter-widgets/controls",
          "model_name": "DescriptionStyleModel",
          "state": {
            "_view_name": "StyleView",
            "_model_name": "DescriptionStyleModel",
            "description_width": "",
            "_view_module": "@jupyter-widgets/base",
            "_model_module_version": "1.5.0",
            "_view_count": null,
            "_view_module_version": "1.2.0",
            "_model_module": "@jupyter-widgets/controls"
          }
        },
        "4089b8eba7414982a8e0fcb91dda8fd0": {
          "model_module": "@jupyter-widgets/base",
          "model_name": "LayoutModel",
          "state": {
            "_view_name": "LayoutView",
            "grid_template_rows": null,
            "right": null,
            "justify_content": null,
            "_view_module": "@jupyter-widgets/base",
            "overflow": null,
            "_model_module_version": "1.2.0",
            "_view_count": null,
            "flex_flow": null,
            "width": null,
            "min_width": null,
            "border": null,
            "align_items": null,
            "bottom": null,
            "_model_module": "@jupyter-widgets/base",
            "top": null,
            "grid_column": null,
            "overflow_y": null,
            "overflow_x": null,
            "grid_auto_flow": null,
            "grid_area": null,
            "grid_template_columns": null,
            "flex": null,
            "_model_name": "LayoutModel",
            "justify_items": null,
            "grid_row": null,
            "max_height": null,
            "align_content": null,
            "visibility": null,
            "align_self": null,
            "height": null,
            "min_height": null,
            "padding": null,
            "grid_auto_rows": null,
            "grid_gap": null,
            "max_width": null,
            "order": null,
            "_view_module_version": "1.2.0",
            "grid_template_areas": null,
            "object_position": null,
            "object_fit": null,
            "grid_auto_columns": null,
            "margin": null,
            "display": null,
            "left": null
          }
        },
        "0531405bb86749c4bc00a623841018b5": {
          "model_module": "@jupyter-widgets/base",
          "model_name": "LayoutModel",
          "state": {
            "_view_name": "LayoutView",
            "grid_template_rows": null,
            "right": null,
            "justify_content": null,
            "_view_module": "@jupyter-widgets/base",
            "overflow": null,
            "_model_module_version": "1.2.0",
            "_view_count": null,
            "flex_flow": null,
            "width": null,
            "min_width": null,
            "border": null,
            "align_items": null,
            "bottom": null,
            "_model_module": "@jupyter-widgets/base",
            "top": null,
            "grid_column": null,
            "overflow_y": null,
            "overflow_x": null,
            "grid_auto_flow": null,
            "grid_area": null,
            "grid_template_columns": null,
            "flex": null,
            "_model_name": "LayoutModel",
            "justify_items": null,
            "grid_row": null,
            "max_height": null,
            "align_content": null,
            "visibility": null,
            "align_self": null,
            "height": null,
            "min_height": null,
            "padding": null,
            "grid_auto_rows": null,
            "grid_gap": null,
            "max_width": null,
            "order": null,
            "_view_module_version": "1.2.0",
            "grid_template_areas": null,
            "object_position": null,
            "object_fit": null,
            "grid_auto_columns": null,
            "margin": null,
            "display": null,
            "left": null
          }
        }
      }
    }
  },
  "cells": [
    {
      "cell_type": "markdown",
      "metadata": {
        "id": "wAswR-zIyAp9"
      },
      "source": [
        "**Referência:** https://www.youtube.com/watch?v=ykHxllpCcQw&lc=UgzoNBuPMawwbrBbzvV4AaABAg.9LVoA0shiWs9LWVDUCNaGv"
      ]
    },
    {
      "cell_type": "code",
      "metadata": {
        "id": "_tdUAKBJx7_2"
      },
      "source": [
        "tickers = ['TAEE4.SA', 'ITSA4.SA']\n",
        "periodo = '1y'"
      ],
      "execution_count": 13,
      "outputs": []
    },
    {
      "cell_type": "markdown",
      "metadata": {
        "id": "VAdURBxvybWI"
      },
      "source": [
        "# Baixando Cotações e Calculando Retornos"
      ]
    },
    {
      "cell_type": "code",
      "metadata": {
        "colab": {
          "base_uri": "https://localhost:8080/"
        },
        "id": "zL7upRQkynyk",
        "outputId": "ab86e82f-fec1-4209-bb5e-e2888417a357"
      },
      "source": [
        "!pip install -q yfinance"
      ],
      "execution_count": 2,
      "outputs": [
        {
          "output_type": "stream",
          "text": [
            "\u001b[K     |████████████████████████████████| 5.5MB 12.4MB/s \n",
            "\u001b[?25h  Building wheel for yfinance (setup.py) ... \u001b[?25l\u001b[?25hdone\n"
          ],
          "name": "stdout"
        }
      ]
    },
    {
      "cell_type": "code",
      "metadata": {
        "id": "3rXTQX7VyqtL"
      },
      "source": [
        "import yfinance as yf\n",
        "import pandas as pd\n",
        "import numpy as np\n",
        "\n",
        "import plotly.graph_objects as go\n",
        "\n",
        "from ipywidgets import interact"
      ],
      "execution_count": 14,
      "outputs": []
    },
    {
      "cell_type": "code",
      "metadata": {
        "id": "eQ_hP9VIzfKT"
      },
      "source": [
        "# consertar nome das colunas\n",
        "def fix_col_names(df):\n",
        "  return ['IBOV' if col == '^BVSP' else col.rstrip('.SA') for col in df.columns]"
      ],
      "execution_count": 15,
      "outputs": []
    },
    {
      "cell_type": "code",
      "metadata": {
        "colab": {
          "base_uri": "https://localhost:8080/"
        },
        "id": "lZV9g7dVzrCT",
        "outputId": "30ac73d7-fbbc-4b67-8ec5-6da56a1e3378"
      },
      "source": [
        "prices = yf.download(tickers, period=periodo, rounding=True)['Adj Close']\n",
        "# aplica a funcao para consertar o nome das colunas da variável preco\n",
        "prices.columns = fix_col_names(prices)\n",
        "# dropa os valores faltantes\n",
        "prices.dropna(inplace=True)\n",
        "retorno = prices.pct_change().dropna()\n",
        "ativos = retorno.columns.to_list()"
      ],
      "execution_count": 19,
      "outputs": [
        {
          "output_type": "stream",
          "text": [
            "\r[                       0%                       ]\r[*********************100%***********************]  2 of 2 completed\n"
          ],
          "name": "stdout"
        }
      ]
    },
    {
      "cell_type": "code",
      "metadata": {
        "colab": {
          "base_uri": "https://localhost:8080/",
          "height": 235
        },
        "id": "o0ZrhITn0FaQ",
        "outputId": "64689697-92b1-468c-8cb9-98a2b4186c46"
      },
      "source": [
        "# precos mais recentes\n",
        "prices.tail()"
      ],
      "execution_count": 20,
      "outputs": [
        {
          "output_type": "execute_result",
          "data": {
            "text/html": [
              "<div>\n",
              "<style scoped>\n",
              "    .dataframe tbody tr th:only-of-type {\n",
              "        vertical-align: middle;\n",
              "    }\n",
              "\n",
              "    .dataframe tbody tr th {\n",
              "        vertical-align: top;\n",
              "    }\n",
              "\n",
              "    .dataframe thead th {\n",
              "        text-align: right;\n",
              "    }\n",
              "</style>\n",
              "<table border=\"1\" class=\"dataframe\">\n",
              "  <thead>\n",
              "    <tr style=\"text-align: right;\">\n",
              "      <th></th>\n",
              "      <th>ITSA4</th>\n",
              "      <th>TAEE4</th>\n",
              "    </tr>\n",
              "    <tr>\n",
              "      <th>Date</th>\n",
              "      <th></th>\n",
              "      <th></th>\n",
              "    </tr>\n",
              "  </thead>\n",
              "  <tbody>\n",
              "    <tr>\n",
              "      <th>2021-03-24</th>\n",
              "      <td>10.03</td>\n",
              "      <td>11.90</td>\n",
              "    </tr>\n",
              "    <tr>\n",
              "      <th>2021-03-25</th>\n",
              "      <td>10.24</td>\n",
              "      <td>11.98</td>\n",
              "    </tr>\n",
              "    <tr>\n",
              "      <th>2021-03-26</th>\n",
              "      <td>10.36</td>\n",
              "      <td>12.06</td>\n",
              "    </tr>\n",
              "    <tr>\n",
              "      <th>2021-03-29</th>\n",
              "      <td>10.32</td>\n",
              "      <td>12.80</td>\n",
              "    </tr>\n",
              "    <tr>\n",
              "      <th>2021-03-30</th>\n",
              "      <td>10.41</td>\n",
              "      <td>12.95</td>\n",
              "    </tr>\n",
              "  </tbody>\n",
              "</table>\n",
              "</div>"
            ],
            "text/plain": [
              "            ITSA4  TAEE4\n",
              "Date                    \n",
              "2021-03-24  10.03  11.90\n",
              "2021-03-25  10.24  11.98\n",
              "2021-03-26  10.36  12.06\n",
              "2021-03-29  10.32  12.80\n",
              "2021-03-30  10.41  12.95"
            ]
          },
          "metadata": {
            "tags": []
          },
          "execution_count": 20
        }
      ]
    },
    {
      "cell_type": "code",
      "metadata": {
        "colab": {
          "base_uri": "https://localhost:8080/",
          "height": 235
        },
        "id": "gO9vC-zA0LDX",
        "outputId": "e6de0f43-71f9-40ec-c18e-5bdde864f49d"
      },
      "source": [
        "# retornos mais recentes\n",
        "retorno.tail()"
      ],
      "execution_count": 21,
      "outputs": [
        {
          "output_type": "execute_result",
          "data": {
            "text/html": [
              "<div>\n",
              "<style scoped>\n",
              "    .dataframe tbody tr th:only-of-type {\n",
              "        vertical-align: middle;\n",
              "    }\n",
              "\n",
              "    .dataframe tbody tr th {\n",
              "        vertical-align: top;\n",
              "    }\n",
              "\n",
              "    .dataframe thead th {\n",
              "        text-align: right;\n",
              "    }\n",
              "</style>\n",
              "<table border=\"1\" class=\"dataframe\">\n",
              "  <thead>\n",
              "    <tr style=\"text-align: right;\">\n",
              "      <th></th>\n",
              "      <th>ITSA4</th>\n",
              "      <th>TAEE4</th>\n",
              "    </tr>\n",
              "    <tr>\n",
              "      <th>Date</th>\n",
              "      <th></th>\n",
              "      <th></th>\n",
              "    </tr>\n",
              "  </thead>\n",
              "  <tbody>\n",
              "    <tr>\n",
              "      <th>2021-03-24</th>\n",
              "      <td>-0.020508</td>\n",
              "      <td>-0.019769</td>\n",
              "    </tr>\n",
              "    <tr>\n",
              "      <th>2021-03-25</th>\n",
              "      <td>0.020937</td>\n",
              "      <td>0.006723</td>\n",
              "    </tr>\n",
              "    <tr>\n",
              "      <th>2021-03-26</th>\n",
              "      <td>0.011719</td>\n",
              "      <td>0.006678</td>\n",
              "    </tr>\n",
              "    <tr>\n",
              "      <th>2021-03-29</th>\n",
              "      <td>-0.003861</td>\n",
              "      <td>0.061360</td>\n",
              "    </tr>\n",
              "    <tr>\n",
              "      <th>2021-03-30</th>\n",
              "      <td>0.008721</td>\n",
              "      <td>0.011719</td>\n",
              "    </tr>\n",
              "  </tbody>\n",
              "</table>\n",
              "</div>"
            ],
            "text/plain": [
              "               ITSA4     TAEE4\n",
              "Date                          \n",
              "2021-03-24 -0.020508 -0.019769\n",
              "2021-03-25  0.020937  0.006723\n",
              "2021-03-26  0.011719  0.006678\n",
              "2021-03-29 -0.003861  0.061360\n",
              "2021-03-30  0.008721  0.011719"
            ]
          },
          "metadata": {
            "tags": []
          },
          "execution_count": 21
        }
      ]
    },
    {
      "cell_type": "markdown",
      "metadata": {
        "id": "6gAFqaEa0dVj"
      },
      "source": [
        "# 1. Criando a carteira"
      ]
    },
    {
      "cell_type": "code",
      "metadata": {
        "id": "7unxjgIT0h1x"
      },
      "source": [
        "# funcao para pegar os pesos\n",
        "def calcula_carteira(df, w1):\n",
        "  # peso de cada carteira. lembrando q w1 + w2 + w3 <= 1\n",
        "  pesos = [w1, 1-w1]\n",
        "  # cria um df com a copia das transpostas dos pesos com df\n",
        "  df2 = df.dot(pesos).copy()\n",
        "  # df2.mean() * 252 anualiza, df2.std() * np.sqrt(252) tb anualiza\n",
        "  return df2.mean() * 252, df2.std() * np.sqrt(252)"
      ],
      "execution_count": 25,
      "outputs": []
    },
    {
      "cell_type": "code",
      "metadata": {
        "colab": {
          "base_uri": "https://localhost:8080/",
          "height": 419
        },
        "id": "YmnPaNWz1dVc",
        "outputId": "d88c8e6b-394a-4f10-a089-0bd05a418a37"
      },
      "source": [
        "# CRiando 100 carteiras de tres ativos com pesos variaveis\n",
        "carteira = pd.DataFrame()\n",
        "for i in np.linspace(0, 1, 101):\n",
        "  media, std = calcula_carteira(retorno, i)\n",
        "  carteira.at[i, 'retorno'] = media\n",
        "  carteira.at[i, 'volatilidade'] = std\n",
        "\n",
        "carteira"
      ],
      "execution_count": 26,
      "outputs": [
        {
          "output_type": "execute_result",
          "data": {
            "text/html": [
              "<div>\n",
              "<style scoped>\n",
              "    .dataframe tbody tr th:only-of-type {\n",
              "        vertical-align: middle;\n",
              "    }\n",
              "\n",
              "    .dataframe tbody tr th {\n",
              "        vertical-align: top;\n",
              "    }\n",
              "\n",
              "    .dataframe thead th {\n",
              "        text-align: right;\n",
              "    }\n",
              "</style>\n",
              "<table border=\"1\" class=\"dataframe\">\n",
              "  <thead>\n",
              "    <tr style=\"text-align: right;\">\n",
              "      <th></th>\n",
              "      <th>retorno</th>\n",
              "      <th>volatilidade</th>\n",
              "    </tr>\n",
              "  </thead>\n",
              "  <tbody>\n",
              "    <tr>\n",
              "      <th>0.00</th>\n",
              "      <td>0.584224</td>\n",
              "      <td>0.235519</td>\n",
              "    </tr>\n",
              "    <tr>\n",
              "      <th>0.01</th>\n",
              "      <td>0.581036</td>\n",
              "      <td>0.234393</td>\n",
              "    </tr>\n",
              "    <tr>\n",
              "      <th>0.02</th>\n",
              "      <td>0.577849</td>\n",
              "      <td>0.233319</td>\n",
              "    </tr>\n",
              "    <tr>\n",
              "      <th>0.03</th>\n",
              "      <td>0.574662</td>\n",
              "      <td>0.232299</td>\n",
              "    </tr>\n",
              "    <tr>\n",
              "      <th>0.04</th>\n",
              "      <td>0.571475</td>\n",
              "      <td>0.231333</td>\n",
              "    </tr>\n",
              "    <tr>\n",
              "      <th>...</th>\n",
              "      <td>...</td>\n",
              "      <td>...</td>\n",
              "    </tr>\n",
              "    <tr>\n",
              "      <th>0.96</th>\n",
              "      <td>0.278244</td>\n",
              "      <td>0.358318</td>\n",
              "    </tr>\n",
              "    <tr>\n",
              "      <th>0.97</th>\n",
              "      <td>0.275056</td>\n",
              "      <td>0.361202</td>\n",
              "    </tr>\n",
              "    <tr>\n",
              "      <th>0.98</th>\n",
              "      <td>0.271869</td>\n",
              "      <td>0.364101</td>\n",
              "    </tr>\n",
              "    <tr>\n",
              "      <th>0.99</th>\n",
              "      <td>0.268682</td>\n",
              "      <td>0.367015</td>\n",
              "    </tr>\n",
              "    <tr>\n",
              "      <th>1.00</th>\n",
              "      <td>0.265495</td>\n",
              "      <td>0.369942</td>\n",
              "    </tr>\n",
              "  </tbody>\n",
              "</table>\n",
              "<p>101 rows × 2 columns</p>\n",
              "</div>"
            ],
            "text/plain": [
              "       retorno  volatilidade\n",
              "0.00  0.584224      0.235519\n",
              "0.01  0.581036      0.234393\n",
              "0.02  0.577849      0.233319\n",
              "0.03  0.574662      0.232299\n",
              "0.04  0.571475      0.231333\n",
              "...        ...           ...\n",
              "0.96  0.278244      0.358318\n",
              "0.97  0.275056      0.361202\n",
              "0.98  0.271869      0.364101\n",
              "0.99  0.268682      0.367015\n",
              "1.00  0.265495      0.369942\n",
              "\n",
              "[101 rows x 2 columns]"
            ]
          },
          "metadata": {
            "tags": []
          },
          "execution_count": 26
        }
      ]
    },
    {
      "cell_type": "code",
      "metadata": {
        "id": "zNCHCaL24GMM"
      },
      "source": [
        "# Carteira de volatilidade mínima\n",
        "min_vol_idx = carteira['volatilidade'].idxmin()"
      ],
      "execution_count": 27,
      "outputs": []
    },
    {
      "cell_type": "code",
      "metadata": {
        "id": "obzcc28O4PAr"
      },
      "source": [
        "# Calcula a fronteira eficiente\n",
        "if (carteira['retorno'].iloc[0] > carteira['retorno'].iloc[-1]):\n",
        "  fe = carteira.loc[:min_vol_idx, :]\n",
        "else:\n",
        "  fe = carteira.loc[min_vol_idx:, :]"
      ],
      "execution_count": 28,
      "outputs": []
    },
    {
      "cell_type": "markdown",
      "metadata": {
        "id": "HjxSrv_s5IbG"
      },
      "source": [
        "# 2. Gráfico"
      ]
    },
    {
      "cell_type": "code",
      "metadata": {
        "colab": {
          "base_uri": "https://localhost:8080/",
          "height": 606,
          "referenced_widgets": [
            "81d8d499ef0e4b1d8ad0a7996440e92f",
            "f404cdd3147a4f208c7fff46527dbfbd",
            "3c7fb45c81fc443eafb44c8b34ddb3cb",
            "8b4e8cc8abe04bec90e03abe398bb444",
            "a59cb8b29d16412f824ade68a30f7008",
            "66effae1d1ea40979726a87ea5cf64f8",
            "55fdb454886f44da923fba79260916f3",
            "1801481b1180466da34ef031d08793b9",
            "4089b8eba7414982a8e0fcb91dda8fd0",
            "0531405bb86749c4bc00a623841018b5"
          ]
        },
        "id": "S6c01ixA5Hkr",
        "outputId": "2e853472-019c-4743-ddd5-dc154c9b0090"
      },
      "source": [
        "def gerar_grafico(w1, mostrar_curvas):\n",
        "  fig = go.Figure()\n",
        "\n",
        "  # Desenha um ponto com o retorno e a volatilidade da carteira\n",
        "  fig.add_scatter(y=[carteira.iloc[w1]['retorno']],\n",
        "                  x=[carteira.iloc[w1]['volatilidade']],\n",
        "                  text=['CARTEIRA'],\n",
        "                  mode='markers+text', name='CARTEIRA')\n",
        "  \n",
        "  # Desenha os pontos das ações individuais\n",
        "  fig.add_scatter(y=carteira.iloc[[-1, 0]]['retorno'],\n",
        "                  x=carteira.iloc[[-1, 0]]['volatilidade'],\n",
        "                  text=ativos,\n",
        "                  mode='markers+text', name='Ações')\n",
        "  \n",
        "  # Desenha a curva\n",
        "  fig.add_scatter(y=carteira['retorno'],\n",
        "                   x=carteira['volatilidade'],\n",
        "                   mode='lines', name='Curva',\n",
        "                   visible=mostrar_curvas)\n",
        "  \n",
        "  # Plotar a carteira de volatilidade mínima\n",
        "  fig.add_scatter(y=[carteira.loc[min_vol_idx]['retorno']],\n",
        "                   x=[carteira.loc[min_vol_idx]['volatilidade']],\n",
        "                   mode='markers',\n",
        "                   name='Carteira de Mínima Variância', \n",
        "                   visible=mostrar_curvas)\n",
        "   \n",
        "   # Desenha a fronteira eficiente\n",
        "  fig.add_scatter(y=fe['retorno'],\n",
        "                   x=fe['volatilidade'],\n",
        "                   mode='lines', name='Fronteira Eficiente', \n",
        "                   line={'color': 'red'},\n",
        "                   visible=mostrar_curvas)\n",
        "   \n",
        "  fig.update_traces(textfont_size=12,\n",
        "                     textposition='middle right', \n",
        "                     textfont_color='white',\n",
        "                     hovertemplate='<b>retorno: </b> %{y:.1%}' + \n",
        "                                    '<br><b>volatilidade:</b> %{x:.1%}')\n",
        "   \n",
        "  fig.layout.autosize = False\n",
        "  fig.layout.xaxis.title = 'Volatilidade'\n",
        "  fig.layout.yaxis.title = 'Retorno Esperado'\n",
        "  fig.layout.yaxis.range = [carteira['volatilidade'].min()-0.05, carteira['volatilidade'].max()+0.05]\n",
        "  fig.layout.yaxis.range = [carteira['retorno'].min()-0.05, carteira['retorno'].max()+0.05]\n",
        "  fig.layout.xaxis.tickformat = '.0%'\n",
        "  fig.layout.yaxis.tickformat = '.0%'\n",
        "  fig.layout.title = f\"<b>{ativos[0]}:</b> {w1}% <b>{ativos[1]}:</b> {100-w1}%\"\n",
        "  fig.layout.template = 'plotly_dark'\n",
        "\n",
        "  fig.show(config=dict(\n",
        "       displayModeBar=True\n",
        "   ))\n",
        "\n",
        "# Dispara o grafico  \n",
        "interact(gerar_grafico, w1=(0,100,1), mostrar_curvas=False);"
      ],
      "execution_count": 40,
      "outputs": [
        {
          "output_type": "display_data",
          "data": {
            "application/vnd.jupyter.widget-view+json": {
              "model_id": "81d8d499ef0e4b1d8ad0a7996440e92f",
              "version_minor": 0,
              "version_major": 2
            },
            "text/plain": [
              "interactive(children=(IntSlider(value=50, description='w1'), Checkbox(value=False, description='mostrar_curvas…"
            ]
          },
          "metadata": {
            "tags": []
          }
        }
      ]
    }
  ]
}